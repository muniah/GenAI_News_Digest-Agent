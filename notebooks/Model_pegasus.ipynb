{
 "cells": [
  {
   "cell_type": "markdown",
   "id": "7ec2e060",
   "metadata": {},
   "source": [
    "# News Summarization using PEGASUS"
   ]
  },
  {
   "cell_type": "code",
   "execution_count": null,
   "id": "40faf34f",
   "metadata": {},
   "outputs": [],
   "source": [
    "import pandas as pd\n",
    "import numpy as np\n",
    "from datasets import Dataset, DatasetDict, load_dataset\n",
    "import evaluate\n",
    "from transformers import AutoTokenizer, AutoModelForSeq2SeqLM, pipeline, DataCollatorForSeq2Seq\n",
    "from transformers import AutoModelForSeq2SeqLM, Seq2SeqTrainingArguments, Seq2SeqTrainer"
   ]
  },
  {
   "cell_type": "markdown",
   "id": "30705b29",
   "metadata": {},
   "source": [
    "### Load Data Locally"
   ]
  },
  {
   "cell_type": "code",
   "execution_count": null,
   "id": "25b55b70",
   "metadata": {},
   "outputs": [],
   "source": [
    "# df_train1 = pd.read_csv('train.csv')\n",
    "# df_train1.head()\n",
    "# # Drop the 'id' column from the dataframe df_train1 to create a new dataframe df_train\n",
    "# df_train = df_train1.drop(columns=['id'])\n",
    "\n",
    "# # Select the first 1000 rows of the dataframe df_train\n",
    "# df_train = df_train.iloc[:1000, :]\n",
    "\n",
    "# # Define a prefix string to be added to each article\n",
    "# prefix = 'summarize: '\n",
    "\n",
    "# # Add the prefix to each article in the 'article' column\n",
    "# df_train['article'] = prefix + df_train['article']\n",
    "\n",
    "# # Display the first few rows of the modified dataframe df_train\n",
    "# df_train.head()\n",
    "\n",
    "# # Loading the testing dataset\n",
    "# df_test = pd.read_csv('test.csv')\n",
    "# df_test = df_test.drop(columns=['id'])\n",
    "# # Loading the validation dataset\n",
    "# df_val = pd.read_csv('validation.csv')\n",
    "\n",
    "# # Select the first 200 rows of the dataframe df_val\n",
    "# df_val = df_val.iloc[:200, :]\n",
    "\n",
    "# # Drop the 'id' column from the dataframe\n",
    "# df_val = df_val.drop(columns=['id'])\n",
    "# df_val.head()"
   ]
  },
  {
   "cell_type": "markdown",
   "id": "34096a28",
   "metadata": {},
   "source": [
    "## Import data from Hugging Face"
   ]
  },
  {
   "cell_type": "code",
   "execution_count": null,
   "id": "9f643df0",
   "metadata": {},
   "outputs": [],
   "source": [
    "# Load the dataset\n",
    "dataset = load_dataset(\"cnn_dailymail\", \"3.0.0\")\n",
    "\n",
    "# Check available splits\n",
    "print(dataset)\n"
   ]
  },
  {
   "cell_type": "code",
   "execution_count": null,
   "id": "b41f2d9e",
   "metadata": {},
   "outputs": [],
   "source": [
    "model_name = \"google/pegasus-large\"\n",
    "# Load the PEGASUS tokenizer and model for summarization\n",
    "tokenizer = AutoTokenizer.from_pretrained(model_name)\n",
    "model = AutoModelForSeq2SeqLM.from_pretrained(model_name).to(\"mps\")\n",
    "\n",
    "# Create a summarization pipeline\n",
    "summarizer = pipeline(\"summarization\", model=model, tokenizer=tokenizer)\n",
    "\n",
    "# Extract model parameters\n",
    "def get_model_parameters(model):\n",
    "    total_params = sum(p.numel() for p in model.parameters())\n",
    "    trainable_params = sum(p.numel() for p in model.parameters() if p.requires_grad)\n",
    "    return total_params, trainable_params\n",
    "\n",
    "total_params, trainable_params = get_model_parameters(model)\n",
    "print(f\"Total Parameters: {total_params}\")\n",
    "print(f\"Trainable Parameters: {trainable_params}\")\n"
   ]
  },
  {
   "cell_type": "code",
   "execution_count": null,
   "id": "7f9d5934",
   "metadata": {},
   "outputs": [],
   "source": [
    "# Fitting into dataset dict\n",
    "train_val_test_dataset = DatasetDict({\n",
    "    'train': dataset['train'],\n",
    "    'test': dataset['test'],\n",
    "    'val': dataset['validation']})\n",
    "\n",
    "print(type(train_val_test_dataset))"
   ]
  },
  {
   "cell_type": "markdown",
   "id": "032b56f7",
   "metadata": {},
   "source": [
    "## PEGASUS fine-tuning"
   ]
  },
  {
   "cell_type": "code",
   "execution_count": null,
   "id": "5f16db27",
   "metadata": {},
   "outputs": [],
   "source": [
    "def prepare_dataset(data):\n",
    "    inputs = data[\"article\"]\n",
    "\n",
    "    # Tokenize the inputs using the tokenizer\n",
    "    model_inputs = tokenizer(inputs, max_length=512, truncation=True)\n",
    "\n",
    "    # Tokenize the 'highlights' column from the data to be used as labels\n",
    "    labels = tokenizer(text_target=data[\"highlights\"], max_length=128, truncation=True)\n",
    "    model_inputs[\"labels\"] = labels[\"input_ids\"]\n",
    "    return model_inputs"
   ]
  },
  {
   "cell_type": "code",
   "execution_count": null,
   "id": "626f4b6e",
   "metadata": {},
   "outputs": [],
   "source": [
    "tokenized_data = train_val_test_dataset.map(prepare_dataset, batched=True)"
   ]
  },
  {
   "cell_type": "code",
   "execution_count": null,
   "id": "1c2cc435",
   "metadata": {},
   "outputs": [],
   "source": [
    "# Padding\n",
    "data_collator = DataCollatorForSeq2Seq(tokenizer=tokenizer, model=model_name)"
   ]
  },
  {
   "cell_type": "code",
   "execution_count": null,
   "id": "b14fbcc0",
   "metadata": {},
   "outputs": [],
   "source": [
    "rouge = evaluate.load(\"rouge\")\n",
    "\n",
    "def compute_metrics(eval_pred):\n",
    "    predictions, labels = eval_pred\n",
    "    decoded_preds = tokenizer.batch_decode(predictions, skip_special_tokens=True)\n",
    "    labels = np.where(labels != -100, labels, tokenizer.pad_token_id)\n",
    "    decoded_labels = tokenizer.batch_decode(labels, skip_special_tokens=True)\n",
    "    result = rouge.compute(predictions=decoded_preds, references=decoded_labels, use_stemmer=True)\n",
    "\n",
    "    return result"
   ]
  },
  {
   "cell_type": "code",
   "execution_count": null,
   "id": "105146e1",
   "metadata": {},
   "outputs": [],
   "source": [
    "# set up hyper-parameters\n",
    "training_args = Seq2SeqTrainingArguments(\n",
    "    output_dir=\"pegasus-news\",\n",
    "    evaluation_strategy=\"epoch\",\n",
    "    learning_rate=2e-5,\n",
    "    per_device_train_batch_size=16,\n",
    "    per_device_eval_batch_size=16,\n",
    "    weight_decay=0.01,\n",
    "    save_total_limit=2,\n",
    "    num_train_epochs=1,\n",
    "    predict_with_generate=True,\n",
    "    #fp16=False,\n",
    "    report_to=\"none\",\n",
    "    #use_mps_device = True,\n",
    "    no_cuda=True\n",
    ")"
   ]
  },
  {
   "cell_type": "code",
   "execution_count": null,
   "id": "5af4784a",
   "metadata": {},
   "outputs": [],
   "source": [
    "# setup trainer\n",
    "trainer = Seq2SeqTrainer(\n",
    "    model = model,\n",
    "    args = training_args,\n",
    "    train_dataset = tokenized_data[\"train\"],\n",
    "    eval_dataset = tokenized_data[\"val\"],\n",
    "    tokenizer = tokenizer,\n",
    "    data_collator = data_collator,\n",
    "    compute_metrics = compute_metrics\n",
    ")"
   ]
  },
  {
   "cell_type": "code",
   "execution_count": null,
   "id": "2a18388b",
   "metadata": {},
   "outputs": [],
   "source": [
    "trainer.train()"
   ]
  },
  {
   "cell_type": "code",
   "execution_count": null,
   "id": "4a067409",
   "metadata": {},
   "outputs": [],
   "source": [
    "# save the model\n",
    "model_path = \"pegasus-news\"\n",
    "trainer.save_model(model_path)\n",
    "tokenizer.save_pretrained(model_path)"
   ]
  }
 ],
 "metadata": {
  "kernelspec": {
   "display_name": "genai-news",
   "language": "python",
   "name": "python3"
  },
  "language_info": {
   "codemirror_mode": {
    "name": "ipython",
    "version": 3
   },
   "file_extension": ".py",
   "mimetype": "text/x-python",
   "name": "python",
   "nbconvert_exporter": "python",
   "pygments_lexer": "ipython3",
   "version": "3.10.16"
  }
 },
 "nbformat": 4,
 "nbformat_minor": 5
}
