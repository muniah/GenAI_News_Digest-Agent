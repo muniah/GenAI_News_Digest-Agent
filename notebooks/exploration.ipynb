{
 "cells": [
  {
   "cell_type": "markdown",
   "id": "9b46c554",
   "metadata": {},
   "source": [
    "### Exploration of the dataset and the early stage modeling"
   ]
  },
  {
   "cell_type": "code",
   "execution_count": 2,
   "id": "5d2c4b0f",
   "metadata": {},
   "outputs": [],
   "source": [
    "## import libraries\n",
    "import os\n",
    "import sys\n",
    "import time\n",
    "import torch\n",
    "import numpy as np\n",
    "import pandas as pd\n",
    "import matplotlib.pyplot as plt\n",
    "import seaborn as sns\n",
    "from datasets import Dataset, DatasetDict, load_dataset\n",
    "import evaluate\n",
    "from transformers import BartTokenizer, BartForConditionalGeneration, pipeline, DataCollatorForSeq2Seq\n",
    "from transformers import Seq2SeqTrainingArguments, Seq2SeqTrainer\n",
    "\n",
    "import warnings\n",
    "warnings.filterwarnings(\"ignore\")"
   ]
  },
  {
   "cell_type": "code",
   "execution_count": 3,
   "id": "26f2fab2",
   "metadata": {},
   "outputs": [
    {
     "name": "stderr",
     "output_type": "stream",
     "text": [
      "Generating train split: 100%|██████████| 287113/287113 [00:26<00:00, 10724.19 examples/s]\n",
      "Generating validation split: 100%|██████████| 13368/13368 [00:00<00:00, 36199.16 examples/s]\n",
      "Generating test split: 100%|██████████| 11490/11490 [00:00<00:00, 38281.66 examples/s]\n"
     ]
    },
    {
     "name": "stdout",
     "output_type": "stream",
     "text": [
      "DatasetDict({\n",
      "    train: Dataset({\n",
      "        features: ['article', 'highlights', 'id'],\n",
      "        num_rows: 287113\n",
      "    })\n",
      "    validation: Dataset({\n",
      "        features: ['article', 'highlights', 'id'],\n",
      "        num_rows: 13368\n",
      "    })\n",
      "    test: Dataset({\n",
      "        features: ['article', 'highlights', 'id'],\n",
      "        num_rows: 11490\n",
      "    })\n",
      "})\n"
     ]
    }
   ],
   "source": [
    "## import dataset from huggingface\n",
    "dataset = load_dataset(\"cnn_dailymail\", \"3.0.0\")\n",
    "print(dataset)"
   ]
  },
  {
   "cell_type": "code",
   "execution_count": 4,
   "id": "b2b65d10",
   "metadata": {},
   "outputs": [
    {
     "name": "stdout",
     "output_type": "stream",
     "text": [
      "ARTICLE:\n",
      " (CNN)He's a blue chip college basketball recruit. She's a high school freshman with Down syndrome. At first glance Trey Moses and Ellie Meredith couldn't be more different. But all that changed Thursday when Trey asked Ellie to be his prom date. Trey -- a star on Eastern High School's basketball team in Louisville, Kentucky, who's headed to play college ball next year at Ball State -- was originally going to take his girlfriend to Eastern's prom. So why is he taking Ellie instead? \"She's great... she listens and she's easy to talk to\" he said. Trey made the prom-posal (yes, that's what they are calling invites to prom these days) in the gym during Ellie's P.E. class. Trina Helson, a teacher at Eastern, alerted the school's newspaper staff to the prom-posal and posted photos of Trey and Ellie on Twitter that have gone viral. She wasn't surpristed by Trey's actions. \"That's the kind of person Trey is,\" she said. To help make sure she said yes, Trey entered the gym armed with flowers and a poster that read \"Let's Party Like it's 1989,\" a reference to the latest album by Taylor Swift, Ellie's favorite singer. Trey also got the OK from Ellie's parents the night before via text. They were thrilled. \"You just feel numb to those moments raising a special needs child,\"  said Darla Meredith, Ellie's mom. \"You first feel the need to protect and then to overprotect.\" Darla Meredith said Ellie has struggled with friendships since elementary school, but a special program at Eastern called Best Buddies had made things easier for her. She said Best Buddies cultivates friendships between students with and without developmental disabilities and prevents students like Ellie from feeling isolated and left out of social functions. \"I guess around middle school is when kids started to care about what others thought,\" she said, but \"this school, this year has been a relief.\" Trey's future coach at Ball State, James Whitford, said he felt great about the prom-posal, noting that Trey, whom he's known for a long time, often works with other kids . Trey's mother, Shelly Moses, was also proud of her son. \"It's exciting to bring awareness to a good cause,\" she said. \"Trey has worked pretty hard, and he's a good son.\" Both Trey and Ellie have a lot of planning to do. Trey is looking to take up special education as a college major, in addition to playing basketball in the fall. As for Ellie, she can't stop thinking about prom. \"Ellie can't wait to go dress shopping\" her mother said. \"Because I've only told about a million people!\" Ellie interjected.\n",
      "\n",
      "HIGHLIGHTS:\n",
      " College-bound basketball star asks girl with Down syndrome to high school prom .\n",
      "Pictures of the two during the \"prom-posal\" have gone viral .\n"
     ]
    }
   ],
   "source": [
    "## Summarization of one sample\n",
    "sample = dataset['test'][5]\n",
    "print(\"ARTICLE:\\n\", sample['article'])\n",
    "print(\"\\nHIGHLIGHTS:\\n\", sample['highlights'])\n"
   ]
  },
  {
   "cell_type": "markdown",
   "id": "c92e16f4",
   "metadata": {},
   "source": [
    "### Load Pre-trained BART Model and Tokenizer\n"
   ]
  },
  {
   "cell_type": "code",
   "execution_count": 5,
   "id": "6c11851f",
   "metadata": {},
   "outputs": [],
   "source": [
    "model_name = \"facebook/bart-large-cnn\"\n",
    "tokenizer = BartTokenizer.from_pretrained(model_name)\n",
    "model = BartForConditionalGeneration.from_pretrained(model_name)"
   ]
  },
  {
   "cell_type": "code",
   "execution_count": 6,
   "id": "6c49a944",
   "metadata": {},
   "outputs": [],
   "source": [
    "## use GPU if available\n",
    "model = model.to(\"cuda\" if torch.cuda.is_available() else \"cpu\")"
   ]
  },
  {
   "cell_type": "markdown",
   "id": "e935b078",
   "metadata": {},
   "source": [
    "### Summarize a News Article"
   ]
  },
  {
   "cell_type": "code",
   "execution_count": 7,
   "id": "5a0718d8",
   "metadata": {},
   "outputs": [],
   "source": [
    "def summarize_text(text, max_input=1024, max_output=150):\n",
    "    \"\"\"\n",
    "    Summarize the input text using the BART model. \n",
    "    Args:\n",
    "        text (str): The input text to summarize.\n",
    "        max_input (int): The maximum length of the input text.\n",
    "        max_output (int): The maximum length of the output summary.\n",
    "    Returns:\n",
    "        str: The generated summary.\n",
    "    \"\"\"\n",
    "    inputs = tokenizer.encode(text, return_tensors=\"pt\", max_length=max_input, truncation=True) # tokenizes the input text into numerical IDs, returns a PyTorch tensor.\n",
    "    inputs = inputs.to(model.device) # move the input tensor to the same device as the model\n",
    "\n",
    "    summary_ids = model.generate( \n",
    "        inputs,\n",
    "        max_length=max_output,\n",
    "        min_length=40,\n",
    "        length_penalty=2.0,\n",
    "        num_beams=4,\n",
    "        early_stopping=True\n",
    "    ) \n",
    "    # The model generates a summary based on the input tensor, with specified parameters for length and beam search.\n",
    "    return tokenizer.decode(summary_ids[0], skip_special_tokens=True) # The generated summary IDs are then decoded back into human-readable text using the tokenizer.\n"
   ]
  },
  {
   "cell_type": "code",
   "execution_count": 8,
   "id": "d50019c2",
   "metadata": {},
   "outputs": [
    {
     "name": "stdout",
     "output_type": "stream",
     "text": [
      "MODEL SUMMARY:\n",
      " Trey Moses asked Ellie Meredith, a freshman with Down syndrome, to be his prom date. Trey made the prom-posal in the gym during Ellie's P.E. class. \"She's great... she listens and she's easy to talk to,\" he said.\n",
      "\n",
      "REFERENCE SUMMARY:\n",
      " College-bound basketball star asks girl with Down syndrome to high school prom .\n",
      "Pictures of the two during the \"prom-posal\" have gone viral .\n"
     ]
    }
   ],
   "source": [
    "## Test the summarization function\n",
    "article = sample['article'] # The article text to summarize\n",
    "summary = summarize_text(article) # The generated summary of the article\n",
    "\n",
    "print(\"MODEL SUMMARY:\\n\", summary)\n",
    "print(\"\\nREFERENCE SUMMARY:\\n\", sample['highlights'])\n"
   ]
  },
  {
   "cell_type": "code",
   "execution_count": 10,
   "id": "6eaccd6a",
   "metadata": {},
   "outputs": [
    {
     "name": "stdout",
     "output_type": "stream",
     "text": [
      "ROUGE-1 Score: 0.3283582089552239\n",
      "ROUGE-2 Score: 0.15384615384615383\n",
      "ROUGE-L Score: 0.26865671641791045\n"
     ]
    }
   ],
   "source": [
    "## Evaluate ROUGE Score\n",
    "\n",
    "rogue = evaluate.load(\"rouge\")\n",
    "rogue_score = rogue.compute(predictions=[summary], references=[sample['highlights']], use_stemmer=True)\n",
    "print(\"ROUGE-1 Score:\", rogue_score['rouge1'])\n",
    "print(\"ROUGE-2 Score:\", rogue_score['rouge2'])\n",
    "print(\"ROUGE-L Score:\", rogue_score['rougeL'])\n",
    "\n",
    "# rouge = evaluate.load(\"rouge\")\n",
    "# results = rouge.compute(predictions=[summary], references=[sample['highlights']])\n",
    "# print(\"ROUGE Evaluation:\", results)\n"
   ]
  },
  {
   "cell_type": "markdown",
   "id": "90090b8f",
   "metadata": {},
   "source": [
    "### Fine-Tuning BART model"
   ]
  },
  {
   "cell_type": "code",
   "execution_count": 11,
   "id": "2f337baa",
   "metadata": {},
   "outputs": [],
   "source": [
    "def prepare_dataset(example):\n",
    "    \"\"\"\n",
    "    Tokenizes the dataset inputs and labels for sequence-to-sequence tasks.\n",
    "    \n",
    "    Args:\n",
    "        example (dict): A single example containing 'article' and 'highlights'.\n",
    "    \n",
    "    Returns:\n",
    "        dict: Tokenized inputs and labels with appropriate padding/truncation.\n",
    "    \"\"\"\n",
    "    # Tokenize the inputs (news articles)\n",
    "    model_inputs = tokenizer(\n",
    "        example[\"article\"], \n",
    "        max_length=512, \n",
    "        truncation=True,\n",
    "        padding=\"max_length\"  # You can use \"longest\" during training if more memory efficient\n",
    "    )\n",
    "\n",
    "    # Tokenize the targets (summaries)\n",
    "    with tokenizer.as_target_tokenizer():\n",
    "        labels = tokenizer(\n",
    "            example[\"highlights\"], \n",
    "            max_length=128, \n",
    "            truncation=True,\n",
    "            padding=\"max_length\"\n",
    "        )\n",
    "    \n",
    "    model_inputs[\"labels\"] = labels[\"input_ids\"]\n",
    "    return model_inputs\n"
   ]
  },
  {
   "cell_type": "code",
   "execution_count": 12,
   "id": "ea6678e9",
   "metadata": {},
   "outputs": [
    {
     "name": "stderr",
     "output_type": "stream",
     "text": [
      "Map: 100%|██████████| 287113/287113 [28:59<00:00, 165.04 examples/s]\n",
      "Map: 100%|██████████| 13368/13368 [01:22<00:00, 162.44 examples/s]\n",
      "Map: 100%|██████████| 11490/11490 [01:11<00:00, 161.69 examples/s]\n"
     ]
    },
    {
     "data": {
      "text/plain": [
       "Dataset({\n",
       "    features: ['article', 'highlights', 'id', 'input_ids', 'attention_mask', 'labels'],\n",
       "    num_rows: 287113\n",
       "})"
      ]
     },
     "execution_count": 12,
     "metadata": {},
     "output_type": "execute_result"
    }
   ],
   "source": [
    "# Tokenize the dataset using the prepare_dataset function\n",
    "tokenized_data = dataset.map(prepare_dataset, batched=True)\n",
    "\n",
    "tokenized_data[\"train\"]\n"
   ]
  },
  {
   "cell_type": "code",
   "execution_count": 13,
   "id": "09036ec3",
   "metadata": {},
   "outputs": [],
   "source": [
    "# Padding\n",
    "data_collator = DataCollatorForSeq2Seq(tokenizer=tokenizer, model=model_name)"
   ]
  },
  {
   "cell_type": "code",
   "execution_count": null,
   "id": "f252fcc5",
   "metadata": {},
   "outputs": [],
   "source": []
  }
 ],
 "metadata": {
  "kernelspec": {
   "display_name": "Python 3",
   "language": "python",
   "name": "python3"
  },
  "language_info": {
   "codemirror_mode": {
    "name": "ipython",
    "version": 3
   },
   "file_extension": ".py",
   "mimetype": "text/x-python",
   "name": "python",
   "nbconvert_exporter": "python",
   "pygments_lexer": "ipython3",
   "version": "3.12.1"
  }
 },
 "nbformat": 4,
 "nbformat_minor": 5
}
